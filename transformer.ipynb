{
 "cells": [
  {
   "cell_type": "code",
   "execution_count": 30,
   "metadata": {},
   "outputs": [
    {
     "name": "stdout",
     "output_type": "stream",
     "text": [
      "The nb_mypy extension is already loaded. To reload it, use:\n",
      "  %reload_ext nb_mypy\n"
     ]
    }
   ],
   "source": [
    " %load_ext nb_mypy"
   ]
  },
  {
   "cell_type": "code",
   "execution_count": 31,
   "metadata": {},
   "outputs": [
    {
     "data": {
      "text/plain": [
       "<torch._C.Generator at 0x130e2ac70>"
      ]
     },
     "execution_count": 31,
     "metadata": {},
     "output_type": "execute_result"
    }
   ],
   "source": [
    "import torch\n",
    "import torch.nn as nn\n",
    "from typing import Optional\n",
    "\n",
    "torch.manual_seed(1337)"
   ]
  },
  {
   "cell_type": "code",
   "execution_count": 32,
   "metadata": {},
   "outputs": [],
   "source": [
    "with open('input.txt', 'r', encoding='utf-8') as f:\n",
    "    text = f.read()"
   ]
  },
  {
   "cell_type": "code",
   "execution_count": 69,
   "metadata": {},
   "outputs": [],
   "source": [
    "chars = sorted(list(set(text)))\n",
    "vocab_size = len(chars)\n",
    "batch_size = 4\n",
    "block_size = 8\n",
    "embed_size = 32\n"
   ]
  },
  {
   "cell_type": "code",
   "execution_count": 34,
   "metadata": {},
   "outputs": [],
   "source": [
    "charToIndex : dict[str, int] = { ch:i for i,ch in enumerate(chars) }\n",
    "indexToChar : dict[int, str] = { i:ch for i,ch in enumerate(chars) }\n",
    "\n",
    "def encode(text: str) -> list[int]: \n",
    "    return [charToIndex[c] for c in text]\n",
    "\n",
    "def decode(values: list[int]) -> str:\n",
    "    return ''.join([indexToChar[value] for value in values])\n"
   ]
  },
  {
   "cell_type": "code",
   "execution_count": 35,
   "metadata": {},
   "outputs": [],
   "source": [
    "data = torch.tensor(encode(text), dtype=torch.long)"
   ]
  },
  {
   "cell_type": "code",
   "execution_count": 36,
   "metadata": {},
   "outputs": [],
   "source": [
    "n = int(0.9 * len(data))\n",
    "\n",
    "train_data = data[:n]\n",
    "val_data  = data[n:]"
   ]
  },
  {
   "cell_type": "code",
   "execution_count": 37,
   "metadata": {},
   "outputs": [],
   "source": [
    "def get_batch(train = True):\n",
    "    data = train_data if train else val_data\n",
    "    ix = torch.randint(len(data) - block_size, (batch_size,))\n",
    "    x = torch.stack([data[i:i+block_size] for i in ix])\n",
    "    y = torch.stack([data[i+1:i+block_size+1] for i in ix])\n",
    "    return x, y"
   ]
  },
  {
   "cell_type": "code",
   "execution_count": 41,
   "metadata": {},
   "outputs": [],
   "source": [
    "class Head(nn.Module):\n",
    "    def __init__(self, block_size, embed_size, head_size):\n",
    "        super().__init__()\n",
    "        self.key = torch.nn.Linear(embed_size, head_size, bias=False)\n",
    "        self.query = torch.nn.Linear(embed_size, head_size, bias=False)\n",
    "        self.value = torch.nn.Linear(embed_size, head_size, bias=False)\n",
    "        self.register_buffer('tril', torch.tril(torch.ones(block_size, block_size)))\n",
    "    \n",
    "    def forward(self, x):\n",
    "        B, T, C = x.shape\n",
    "        k = self.key(x) # (B, T, head_size)\n",
    "        q = self.query(x) # (B, T, head_size)\n",
    "        v = self.value(x) # (B, T, head_size)\n",
    "\n",
    "        wei = q @ k.transpose(-2, -1) * C**-0.5 # (B, T, T)\n",
    "        wei = wei.masked_fill(self.tril[:T,:T] == 0, float('-inf')) # future tokens have -inf affinities\n",
    "        wei = torch.nn.functional.softmax(wei, dim=-1)\n",
    "\n",
    "        return wei @ v # (B, T, head_size)"
   ]
  },
  {
   "cell_type": "code",
   "execution_count": 75,
   "metadata": {},
   "outputs": [],
   "source": [
    "class MultiHeadAttention(nn.Module):\n",
    "    def __init__(self, num_heads, block_size, embed_size, head_size):\n",
    "        super().__init__()\n",
    "        self.heads = nn.ModuleList([Head(block_size, embed_size, head_size) for _ in range(num_heads)])\n",
    "\n",
    "    def forward(self, x):\n",
    "        return torch.cat([h(x) for h in self.heads], dim=-1)"
   ]
  },
  {
   "cell_type": "code",
   "execution_count": 76,
   "metadata": {},
   "outputs": [],
   "source": [
    "class TransformerLanguageModel(nn.Module):\n",
    "    def __init__(self, block_size, embed_size, vocab_size, head_size):\n",
    "        super().__init__()\n",
    "        self.token_embedding_table = nn.Embedding(vocab_size, embed_size)\n",
    "        self.position_embedding_table = nn.Embedding(block_size, embed_size)\n",
    "\n",
    "        self.sa_heads = MultiHeadAttention(4, block_size, embed_size, (int) (embed_size / 4))\n",
    "        self.ln_head = nn.Linear(embed_size, vocab_size)\n",
    "    \n",
    "    # idx and targets are both (batch_size, block_size) tensors of integers\n",
    "    def forward(self, idx, targets = None) -> tuple[torch.Tensor, Optional[torch.Tensor]]:\n",
    "        B, T = idx.shape\n",
    "\n",
    "        token_embeddings = self.token_embedding_table(idx) # (B=batch_size, T=block_size, C=embed_size)\n",
    "        position_embeddings = self.position_embedding_table(torch.arange(T))\n",
    "        x = token_embeddings + position_embeddings # (B, T, C)\n",
    "        x = self.sa_heads(x) # apply one head of self-attention (B, T, head_size)\n",
    "        logits = self.ln_head(x) # (B, T, vocab_size)\n",
    "\n",
    "        if targets is None:\n",
    "            loss = None\n",
    "        else:\n",
    "            B, T, C = logits.shape\n",
    "            loss = nn.functional.cross_entropy(logits.view(B*T, C), targets.view(B*T))\n",
    "        \n",
    "        return logits, loss\n",
    "\n",
    "    def generate(self, idx, max_new_tokens) -> torch.Tensor:\n",
    "        # idx is (B, T) array of indexes\n",
    "        for _ in range(max_new_tokens):\n",
    "            # crop idx to the block_size\n",
    "            idx_crop = idx[:, -block_size:]\n",
    "            logits, _ = self.forward(idx_crop)\n",
    "            logits = logits[:, -1, :] # becomes (B, C)\n",
    "            probs = nn.functional.softmax(logits, dim=-1) # (B, C)\n",
    "            idx_next = torch.multinomial(probs, num_samples=1) # (B,1)\n",
    "            idx = torch.cat((idx, idx_next), dim=1) # (B, T+1)\n",
    "\n",
    "        return idx"
   ]
  },
  {
   "cell_type": "code",
   "execution_count": 77,
   "metadata": {},
   "outputs": [
    {
     "ename": "RuntimeError",
     "evalue": "mat1 and mat2 shapes cannot be multiplied (32x32 and 16x65)",
     "output_type": "error",
     "traceback": [
      "\u001b[0;31m---------------------------------------------------------------------------\u001b[0m",
      "\u001b[0;31mRuntimeError\u001b[0m                              Traceback (most recent call last)",
      "Cell \u001b[0;32mIn[77], line 8\u001b[0m\n\u001b[1;32m      5\u001b[0m m \u001b[39m=\u001b[39m TransformerLanguageModel(block_size, embed_size, vocab_size, head_size)\n\u001b[1;32m      7\u001b[0m xb, yb \u001b[39m=\u001b[39m get_batch()\n\u001b[0;32m----> 8\u001b[0m logits, loss \u001b[39m=\u001b[39m m\u001b[39m.\u001b[39;49mforward(xb, yb)\n\u001b[1;32m     10\u001b[0m \u001b[39mprint\u001b[39m(logits\u001b[39m.\u001b[39mshape)\n\u001b[1;32m     11\u001b[0m \u001b[39mprint\u001b[39m(loss)\n",
      "Cell \u001b[0;32mIn[76], line 18\u001b[0m, in \u001b[0;36mTransformerLanguageModel.forward\u001b[0;34m(self, idx, targets)\u001b[0m\n\u001b[1;32m     16\u001b[0m x \u001b[39m=\u001b[39m token_embeddings \u001b[39m+\u001b[39m position_embeddings \u001b[39m# (B, T, C)\u001b[39;00m\n\u001b[1;32m     17\u001b[0m x \u001b[39m=\u001b[39m \u001b[39mself\u001b[39m\u001b[39m.\u001b[39msa_heads(x) \u001b[39m# apply one head of self-attention (B, T, head_size)\u001b[39;00m\n\u001b[0;32m---> 18\u001b[0m logits \u001b[39m=\u001b[39m \u001b[39mself\u001b[39;49m\u001b[39m.\u001b[39;49mln_head(x) \u001b[39m# (B, T, vocab_size)\u001b[39;00m\n\u001b[1;32m     20\u001b[0m \u001b[39mif\u001b[39;00m targets \u001b[39mis\u001b[39;00m \u001b[39mNone\u001b[39;00m:\n\u001b[1;32m     21\u001b[0m     loss \u001b[39m=\u001b[39m \u001b[39mNone\u001b[39;00m\n",
      "File \u001b[0;32m/opt/homebrew/lib/python3.10/site-packages/torch/nn/modules/module.py:1194\u001b[0m, in \u001b[0;36mModule._call_impl\u001b[0;34m(self, *input, **kwargs)\u001b[0m\n\u001b[1;32m   1190\u001b[0m \u001b[39m# If we don't have any hooks, we want to skip the rest of the logic in\u001b[39;00m\n\u001b[1;32m   1191\u001b[0m \u001b[39m# this function, and just call forward.\u001b[39;00m\n\u001b[1;32m   1192\u001b[0m \u001b[39mif\u001b[39;00m \u001b[39mnot\u001b[39;00m (\u001b[39mself\u001b[39m\u001b[39m.\u001b[39m_backward_hooks \u001b[39mor\u001b[39;00m \u001b[39mself\u001b[39m\u001b[39m.\u001b[39m_forward_hooks \u001b[39mor\u001b[39;00m \u001b[39mself\u001b[39m\u001b[39m.\u001b[39m_forward_pre_hooks \u001b[39mor\u001b[39;00m _global_backward_hooks\n\u001b[1;32m   1193\u001b[0m         \u001b[39mor\u001b[39;00m _global_forward_hooks \u001b[39mor\u001b[39;00m _global_forward_pre_hooks):\n\u001b[0;32m-> 1194\u001b[0m     \u001b[39mreturn\u001b[39;00m forward_call(\u001b[39m*\u001b[39;49m\u001b[39minput\u001b[39;49m, \u001b[39m*\u001b[39;49m\u001b[39m*\u001b[39;49mkwargs)\n\u001b[1;32m   1195\u001b[0m \u001b[39m# Do not call functions when jit is used\u001b[39;00m\n\u001b[1;32m   1196\u001b[0m full_backward_hooks, non_full_backward_hooks \u001b[39m=\u001b[39m [], []\n",
      "File \u001b[0;32m/opt/homebrew/lib/python3.10/site-packages/torch/nn/modules/linear.py:114\u001b[0m, in \u001b[0;36mLinear.forward\u001b[0;34m(self, input)\u001b[0m\n\u001b[1;32m    113\u001b[0m \u001b[39mdef\u001b[39;00m \u001b[39mforward\u001b[39m(\u001b[39mself\u001b[39m, \u001b[39minput\u001b[39m: Tensor) \u001b[39m-\u001b[39m\u001b[39m>\u001b[39m Tensor:\n\u001b[0;32m--> 114\u001b[0m     \u001b[39mreturn\u001b[39;00m F\u001b[39m.\u001b[39;49mlinear(\u001b[39minput\u001b[39;49m, \u001b[39mself\u001b[39;49m\u001b[39m.\u001b[39;49mweight, \u001b[39mself\u001b[39;49m\u001b[39m.\u001b[39;49mbias)\n",
      "\u001b[0;31mRuntimeError\u001b[0m: mat1 and mat2 shapes cannot be multiplied (32x32 and 16x65)"
     ]
    }
   ],
   "source": [
    "import torch\n",
    "\n",
    "torch.manual_seed(1337)\n",
    "\n",
    "m = TransformerLanguageModel(block_size, embed_size, vocab_size, head_size)\n",
    "\n",
    "xb, yb = get_batch()\n",
    "logits, loss = m.forward(xb, yb)\n",
    "\n",
    "print(logits.shape)\n",
    "print(loss)\n",
    "\n",
    "print(m.generate(torch.zeros((1,1), dtype=torch.long), max_new_tokens=100))\n",
    "print(decode(m.generate(torch.zeros((1,1), dtype=torch.long), max_new_tokens=100)[0].tolist()))"
   ]
  },
  {
   "cell_type": "code",
   "execution_count": 48,
   "metadata": {},
   "outputs": [
    {
     "name": "stdout",
     "output_type": "stream",
     "text": [
      "2.634603261947632\n"
     ]
    }
   ],
   "source": [
    "optimizer = torch.optim.AdamW(m.parameters(), lr=1e-3)\n",
    "batch_size = 32\n",
    "\n",
    "for steps in range(1000):\n",
    "    xb, yb = get_batch(True)\n",
    "    logits, loss = m.forward(xb, yb)\n",
    "\n",
    "    if loss is not None:    \n",
    "        optimizer.zero_grad(True)\n",
    "        loss.backward()\n",
    "        optimizer.step()\n",
    "\n",
    "if loss is not None:            \n",
    "    print(loss.item())"
   ]
  },
  {
   "cell_type": "code",
   "execution_count": 49,
   "metadata": {},
   "outputs": [],
   "source": [
    "eval_iters = 1000\n",
    "\n",
    "@torch.no_grad()\n",
    "def estimate_loss():\n",
    "    out = {}\n",
    "    m.eval()\n",
    "    for split in [True, False]:\n",
    "        losses = torch.zeros(eval_iters)\n",
    "        for k in range(eval_iters):\n",
    "            xs, ys = get_batch(split)\n",
    "            logits, loss = m.forward(xs, ys)\n",
    "            if loss is not None:\n",
    "                losses[k] = loss.item()\n",
    "        out[split] = losses.mean()\n",
    "    m.train()\n",
    "    return out"
   ]
  },
  {
   "cell_type": "code",
   "execution_count": 52,
   "metadata": {},
   "outputs": [
    {
     "name": "stdout",
     "output_type": "stream",
     "text": [
      "step 0: train loss 2.4125, val loss 2.4323\n",
      "step 300: train loss 2.4106, val loss 2.4243\n",
      "step 600: train loss 2.4095, val loss 2.4220\n",
      "step 900: train loss 2.4045, val loss 2.4270\n",
      "step 1200: train loss 2.4021, val loss 2.4205\n",
      "step 1500: train loss 2.3964, val loss 2.4143\n",
      "step 1800: train loss 2.3917, val loss 2.4157\n",
      "step 2100: train loss 2.3943, val loss 2.4085\n",
      "step 2400: train loss 2.3899, val loss 2.4129\n",
      "step 2700: train loss 2.3921, val loss 2.4053\n",
      "step 3000: train loss 2.3819, val loss 2.4074\n",
      "step 3300: train loss 2.3835, val loss 2.4063\n",
      "step 3600: train loss 2.3814, val loss 2.4024\n",
      "step 3900: train loss 2.3777, val loss 2.4000\n",
      "step 4200: train loss 2.3717, val loss 2.4040\n",
      "step 4500: train loss 2.3758, val loss 2.4026\n",
      "step 4800: train loss 2.3765, val loss 2.4015\n"
     ]
    }
   ],
   "source": [
    "max_iters = 5000\n",
    "eval_interval = 300\n",
    "\n",
    "for iter in range(max_iters):\n",
    "    if iter % eval_interval == 0:\n",
    "        losses = estimate_loss()\n",
    "        print(f\"step {iter}: train loss {losses[True]:.4f}, val loss {losses[False]:.4f}\")\n",
    "    \n",
    "    xb, yb = get_batch(True)\n",
    "    logits, loss = m.forward(xb, yb)\n",
    "\n",
    "    if loss is not None:    \n",
    "        optimizer.zero_grad(True)\n",
    "        loss.backward()\n",
    "        optimizer.step()"
   ]
  },
  {
   "cell_type": "code",
   "execution_count": 53,
   "metadata": {},
   "outputs": [
    {
     "name": "stdout",
     "output_type": "stream",
     "text": [
      "\n",
      "PARWAUS:\n",
      "Anig sper tlad berer fingthon\n",
      "Om'l seroreofl thourt ybenidr to theatror; lel,\n",
      "Haly wathinid nsmeem mee so bedon dqou hnk's is Raver; nowo ilsant Meamans. I YO.\n",
      "\n",
      "ILIRIEMCUZAELe ta's; pseatur fesray, owhow shisowthere, tallo shackif dor yorando lileriefis vicheprs chintoo wit labelil thinor the, bikerer asefigie tothaun thatino cere'save bar?\n",
      "\n",
      "Th\n",
      "Wit aly!\n",
      "\n",
      "CAK:\n",
      "B\n",
      "intou sone.\n",
      "\n",
      "OD:e-\n",
      "T rsen mbame tiret tiners! ighouef I'teacofr hy himam istimay aivis et\n",
      "At I of haty at spo ome gorneran fofe\n"
     ]
    }
   ],
   "source": [
    "print(decode(m.generate(torch.zeros((1,1), dtype=torch.long), max_new_tokens=500)[0].tolist()))"
   ]
  }
 ],
 "metadata": {
  "kernelspec": {
   "display_name": "Python 3",
   "language": "python",
   "name": "python3"
  },
  "language_info": {
   "codemirror_mode": {
    "name": "ipython",
    "version": 3
   },
   "file_extension": ".py",
   "mimetype": "text/x-python",
   "name": "python",
   "nbconvert_exporter": "python",
   "pygments_lexer": "ipython3",
   "version": "3.10.9"
  },
  "orig_nbformat": 4,
  "vscode": {
   "interpreter": {
    "hash": "b0fa6594d8f4cbf19f97940f81e996739fb7646882a419484c72d19e05852a7e"
   }
  }
 },
 "nbformat": 4,
 "nbformat_minor": 2
}
