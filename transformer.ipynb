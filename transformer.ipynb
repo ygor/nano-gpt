{
 "cells": [
  {
   "cell_type": "code",
   "execution_count": 15,
   "metadata": {},
   "outputs": [
    {
     "name": "stdout",
     "output_type": "stream",
     "text": [
      "The nb_mypy extension is already loaded. To reload it, use:\n",
      "  %reload_ext nb_mypy\n"
     ]
    }
   ],
   "source": [
    " %load_ext nb_mypy"
   ]
  },
  {
   "cell_type": "code",
   "execution_count": 16,
   "metadata": {},
   "outputs": [
    {
     "data": {
      "text/plain": [
       "<torch._C.Generator at 0x11121fab0>"
      ]
     },
     "execution_count": 16,
     "metadata": {},
     "output_type": "execute_result"
    }
   ],
   "source": [
    "import torch\n",
    "import torch.nn as nn\n",
    "from typing import Optional\n",
    "\n",
    "torch.manual_seed(1337)"
   ]
  },
  {
   "cell_type": "code",
   "execution_count": 17,
   "metadata": {},
   "outputs": [],
   "source": [
    "with open('input.txt', 'r', encoding='utf-8') as f:\n",
    "    text = f.read()"
   ]
  },
  {
   "cell_type": "code",
   "execution_count": 18,
   "metadata": {},
   "outputs": [],
   "source": [
    "chars = sorted(list(set(text)))\n",
    "vocab_size = len(chars)\n",
    "batch_size = 64\n",
    "block_size = 256\n",
    "embed_size = 384\n",
    "num_heads = 6\n",
    "num_layers = 6\n",
    "dropout = 0.2"
   ]
  },
  {
   "cell_type": "code",
   "execution_count": 19,
   "metadata": {},
   "outputs": [],
   "source": [
    "charToIndex : dict[str, int] = { ch:i for i,ch in enumerate(chars) }\n",
    "indexToChar : dict[int, str] = { i:ch for i,ch in enumerate(chars) }\n",
    "\n",
    "def encode(text: str) -> list[int]: \n",
    "    return [charToIndex[c] for c in text]\n",
    "\n",
    "def decode(values: list[int]) -> str:\n",
    "    return ''.join([indexToChar[value] for value in values])"
   ]
  },
  {
   "cell_type": "code",
   "execution_count": 20,
   "metadata": {},
   "outputs": [],
   "source": [
    "data = torch.tensor(encode(text), dtype=torch.long)"
   ]
  },
  {
   "cell_type": "code",
   "execution_count": 21,
   "metadata": {},
   "outputs": [],
   "source": [
    "n = int(0.9 * len(data))\n",
    "\n",
    "train_data = data[:n]\n",
    "val_data  = data[n:]"
   ]
  },
  {
   "cell_type": "code",
   "execution_count": 22,
   "metadata": {},
   "outputs": [],
   "source": [
    "def get_batch(train = True):\n",
    "    data = train_data if train else val_data\n",
    "    ix = torch.randint(len(data) - block_size, (batch_size,))\n",
    "    x = torch.stack([data[i:i+block_size] for i in ix])\n",
    "    y = torch.stack([data[i+1:i+block_size+1] for i in ix])\n",
    "    return x, y"
   ]
  },
  {
   "cell_type": "code",
   "execution_count": 23,
   "metadata": {},
   "outputs": [],
   "source": [
    "class Head(nn.Module):\n",
    "    def __init__(self, block_size, embed_size, head_size):\n",
    "        super().__init__()\n",
    "        self.key = torch.nn.Linear(embed_size, head_size, bias=False)\n",
    "        self.query = torch.nn.Linear(embed_size, head_size, bias=False)\n",
    "        self.value = torch.nn.Linear(embed_size, head_size, bias=False)\n",
    "        self.dropout = torch.nn.Dropout(dropout)\n",
    "        self.register_buffer('tril', torch.tril(torch.ones(block_size, block_size)))\n",
    "    \n",
    "    def forward(self, x):\n",
    "        B, T, C = x.shape # (B=batch_size, T=block_size, C=embed_size)\n",
    "        k = self.key(x) # (B, T, head_size)\n",
    "        q = self.query(x) # (B, T, head_size)\n",
    "        v = self.value(x) # (B, T, head_size)\n",
    "\n",
    "        wei = q @ k.transpose(-2, -1) * C**-0.5 # (B, T, T)\n",
    "        wei = wei.masked_fill(self.tril[:T,:T] == 0, float('-inf')) # future tokens have -inf affinities\n",
    "        wei = torch.nn.functional.softmax(wei, dim=-1)\n",
    "        wei = self.dropout(wei)\n",
    "\n",
    "        return wei @ v # (B, T, head_size)"
   ]
  },
  {
   "cell_type": "code",
   "execution_count": 24,
   "metadata": {},
   "outputs": [],
   "source": [
    "class MultiHeadAttention(nn.Module):\n",
    "    def __init__(self, num_heads, block_size, embed_size):\n",
    "        super().__init__()\n",
    "        self.heads = nn.ModuleList([Head(block_size, embed_size, embed_size // num_heads) for _ in range(num_heads)])\n",
    "        self.projection = nn.Linear(embed_size, embed_size)\n",
    "        self.dropout = nn.Dropout(dropout)\n",
    "\n",
    "    def forward(self, x):\n",
    "        out = torch.cat([h(x) for h in self.heads], dim=-1)\n",
    "        out = self.projection(out)\n",
    "        out = self.dropout(out)\n",
    "        return out"
   ]
  },
  {
   "cell_type": "code",
   "execution_count": 25,
   "metadata": {},
   "outputs": [],
   "source": [
    "class FeedForward(nn.Module):\n",
    "    def __init__(self, embed_size):\n",
    "        super().__init__()\n",
    "        self.net = torch.nn.Sequential(\n",
    "            torch.nn.Linear(embed_size, 4 * embed_size),\n",
    "            torch.nn.ReLU(),\n",
    "            nn.Linear(4 * embed_size, embed_size),\n",
    "            nn.Dropout(dropout)\n",
    "        )\n",
    "    \n",
    "    def forward(self, x):\n",
    "        return self.net(x)"
   ]
  },
  {
   "cell_type": "code",
   "execution_count": 26,
   "metadata": {},
   "outputs": [],
   "source": [
    "class Block(nn.Module):\n",
    "    def __init__(self, num_heads, block_size, embed_size):\n",
    "        super().__init__()\n",
    "        self.sa_heads = MultiHeadAttention(num_heads, block_size, embed_size)\n",
    "        self.feed_forward = FeedForward(embed_size)\n",
    "        self.ln1 = torch.nn.LayerNorm(embed_size)\n",
    "        self.ln2 = torch.nn.LayerNorm(embed_size)\n",
    "\n",
    "    def forward(self, x):\n",
    "        x = x + self.sa_heads(self.ln1(x)) # (B, T, C)\n",
    "        x = x + self.feed_forward(self.ln2(x)) # (B, T, C)\n",
    "        return x"
   ]
  },
  {
   "cell_type": "code",
   "execution_count": 27,
   "metadata": {},
   "outputs": [],
   "source": [
    "class TransformerLanguageModel(nn.Module):\n",
    "    def __init__(self, block_size, embed_size, vocab_size, num_heads, num_layers):\n",
    "        super().__init__()\n",
    "        self.token_embedding_table = nn.Embedding(vocab_size, embed_size)\n",
    "        self.position_embedding_table = nn.Embedding(block_size, embed_size)\n",
    "        \n",
    "        self.blocks = nn.Sequential(*[Block(num_heads, block_size, embed_size) for _ in range(num_layers)])\n",
    "        self.ln = torch.nn.LayerNorm(embed_size)\n",
    "        self.lm_head = nn.Linear(embed_size, vocab_size)\n",
    "    \n",
    "    # idx and targets are both (batch_size, block_size) tensors of integers\n",
    "    def forward(self, idx, targets = None) -> tuple[torch.Tensor, Optional[torch.Tensor]]:\n",
    "        B, T = idx.shape\n",
    "\n",
    "        token_embeddings = self.token_embedding_table(idx) # (B=batch_size, T=block_size, C=embed_size)\n",
    "        position_embeddings = self.position_embedding_table(torch.arange(T))\n",
    "        x = token_embeddings + position_embeddings # (B, T, C)\n",
    "        x = self.blocks(x)\n",
    "        x = self.ln(x)\n",
    "                \n",
    "        logits = self.lm_head(x) # (B, T, vocab_size)\n",
    "\n",
    "        if targets is None:\n",
    "            loss = None\n",
    "        else:\n",
    "            B, T, C = logits.shape\n",
    "            loss = nn.functional.cross_entropy(logits.view(B*T, C), targets.view(B*T))\n",
    "        \n",
    "        return logits, loss\n",
    "\n",
    "    def generate(self, idx, max_new_tokens) -> torch.Tensor:\n",
    "        # idx is (B, T) array of indexes\n",
    "        for _ in range(max_new_tokens):\n",
    "            # crop idx to the block_size\n",
    "            idx_crop = idx[:, -block_size:]\n",
    "            logits, _ = self.forward(idx_crop)\n",
    "            logits = logits[:, -1, :] # becomes (B, C)\n",
    "            probs = nn.functional.softmax(logits, dim=-1) # (B, C)\n",
    "            idx_next = torch.multinomial(probs, num_samples=1) # (B,1)\n",
    "            idx = torch.cat((idx, idx_next), dim=1) # (B, T+1)\n",
    "\n",
    "        return idx"
   ]
  },
  {
   "cell_type": "code",
   "execution_count": 28,
   "metadata": {},
   "outputs": [
    {
     "name": "stdout",
     "output_type": "stream",
     "text": [
      "6\n",
      "torch.Size([64, 256, 65])\n",
      "tensor(4.3320, grad_fn=<NllLossBackward0>)\n",
      "tensor([[ 0, 35, 61, 30, 38, 52, 50, 24, 40,  5,  4, 56, 53, 62, 46, 49, 36,  3,\n",
      "         32, 63, 24,  1, 56, 35, 12, 61,  4, 62, 44, 13, 41, 29,  5, 44, 39,  3,\n",
      "         13, 62, 29, 32,  2, 40, 39, 22, 24, 21, 37, 58,  4,  5, 35, 19, 33, 51,\n",
      "         35, 16, 60, 34, 57, 60,  1, 34, 37, 57, 57, 24, 27,  7, 18, 32, 52, 34,\n",
      "          8,  6, 14, 21,  2, 34, 17, 47, 51, 40, 32, 39, 41,  3,  2, 58, 26, 17,\n",
      "          7, 36, 32, 23,  6, 35, 47, 51, 38, 29, 27]])\n",
      "\n",
      "$X;luyFJ'UM-a bp!MhkzJW-B-Dhx-D\n",
      "f..z R,vQ\n",
      "XsCFYJXL.:MRQKndZSNB R?PKzLhDxPCOS:RbskTyMI.weaU-C!e&uAqKO\n"
     ]
    }
   ],
   "source": [
    "import torch\n",
    "\n",
    "torch.manual_seed(1337)\n",
    "\n",
    "m = TransformerLanguageModel(block_size, embed_size, vocab_size, num_heads, num_layers)\n",
    "\n",
    "xb, yb = get_batch()\n",
    "logits, loss = m.forward(xb, yb)\n",
    "\n",
    "print(logits.shape)\n",
    "print(loss)\n",
    "\n",
    "print(m.generate(torch.zeros((1,1), dtype=torch.long), max_new_tokens=100))\n",
    "print(decode(m.generate(torch.zeros((1,1), dtype=torch.long), max_new_tokens=100)[0].tolist()))"
   ]
  },
  {
   "cell_type": "code",
   "execution_count": 29,
   "metadata": {},
   "outputs": [
    {
     "name": "stdout",
     "output_type": "stream",
     "text": [
      "1.5140539407730103\n"
     ]
    }
   ],
   "source": [
    "optimizer = torch.optim.AdamW(m.parameters(), lr=1e-3)\n",
    "batch_size = 32\n",
    "\n",
    "for steps in range(1000):\n",
    "    xb, yb = get_batch(True)\n",
    "    logits, loss = m.forward(xb, yb)\n",
    "\n",
    "    if loss is not None:    \n",
    "        optimizer.zero_grad(True)\n",
    "        loss.backward()\n",
    "        optimizer.step()\n",
    "\n",
    "if loss is not None:            \n",
    "    print(loss.item())"
   ]
  },
  {
   "cell_type": "code",
   "execution_count": 30,
   "metadata": {},
   "outputs": [],
   "source": [
    "eval_iters = 1000\n",
    "\n",
    "@torch.no_grad()\n",
    "def estimate_loss():\n",
    "    out = {}\n",
    "    m.eval()\n",
    "    for split in [True, False]:\n",
    "        losses = torch.zeros(eval_iters)\n",
    "        for k in range(eval_iters):\n",
    "            xs, ys = get_batch(split)\n",
    "            logits, loss = m.forward(xs, ys)\n",
    "            if loss is not None:\n",
    "                losses[k] = loss.item()\n",
    "        out[split] = losses.mean()\n",
    "    m.train()\n",
    "    return out"
   ]
  },
  {
   "cell_type": "code",
   "execution_count": 31,
   "metadata": {},
   "outputs": [
    {
     "name": "stdout",
     "output_type": "stream",
     "text": [
      "step 0: train loss 1.4692, val loss 1.6726\n",
      "step 300: train loss 1.3814, val loss 1.5847\n",
      "step 600: train loss 1.3218, val loss 1.5573\n",
      "step 900: train loss 1.2833, val loss 1.5390\n",
      "step 1200: train loss 1.2435, val loss 1.5169\n",
      "step 1500: train loss 1.2139, val loss 1.5078\n",
      "step 1800: train loss 1.1872, val loss 1.5072\n"
     ]
    }
   ],
   "source": [
    "max_iters = 5000\n",
    "eval_interval = 300\n",
    "\n",
    "for iter in range(max_iters):\n",
    "    if iter % eval_interval == 0:\n",
    "        losses = estimate_loss()\n",
    "        print(f\"step {iter}: train loss {losses[True]:.4f}, val loss {losses[False]:.4f}\")\n",
    "    \n",
    "    xb, yb = get_batch(True)\n",
    "    logits, loss = m.forward(xb, yb)\n",
    "\n",
    "    if loss is not None:    \n",
    "        optimizer.zero_grad(True)\n",
    "        loss.backward()\n",
    "        optimizer.step()"
   ]
  },
  {
   "cell_type": "markdown",
   "metadata": {},
   "source": []
  },
  {
   "cell_type": "code",
   "execution_count": null,
   "metadata": {},
   "outputs": [
    {
     "name": "stdout",
     "output_type": "stream",
     "text": [
      "\n",
      "KISTINGSBWollodt holiend than thy vadswas shode,\n",
      "And fairen our he.\n",
      "The pose what na. Ins rown;\n",
      "Thou arrain should for be avery to welliel but reges of Donemn tway ditelvond had beinsold,\n",
      "Farb nog this in herechild chan.\n",
      "\n",
      "RUKE VINCENTIO:\n",
      "Heast!\n",
      "\n",
      "BOLOUS:\n",
      "So have your kind in son.\n",
      "\n",
      "Fands,\n",
      "A slome frower do Mrinclow.\n",
      "\n",
      "METINGETI:\n",
      "Fane their and him sabock, with so be wifell Nordys kes I world.\n",
      "What?\n",
      "\n",
      "EDWARAyULANNE:\n",
      "Whening we\n",
      "Enchis sound-uman Compellousimment my hand fale\n",
      "with in?\n",
      "The hast yet tow.\n"
     ]
    }
   ],
   "source": [
    "print(decode(m.generate(torch.zeros((1,1), dtype=torch.long), max_new_tokens=500)[0].tolist()))"
   ]
  }
 ],
 "metadata": {
  "kernelspec": {
   "display_name": "Python 3",
   "language": "python",
   "name": "python3"
  },
  "language_info": {
   "codemirror_mode": {
    "name": "ipython",
    "version": 3
   },
   "file_extension": ".py",
   "mimetype": "text/x-python",
   "name": "python",
   "nbconvert_exporter": "python",
   "pygments_lexer": "ipython3",
   "version": "3.10.9"
  },
  "orig_nbformat": 4,
  "vscode": {
   "interpreter": {
    "hash": "b0fa6594d8f4cbf19f97940f81e996739fb7646882a419484c72d19e05852a7e"
   }
  }
 },
 "nbformat": 4,
 "nbformat_minor": 2
}
